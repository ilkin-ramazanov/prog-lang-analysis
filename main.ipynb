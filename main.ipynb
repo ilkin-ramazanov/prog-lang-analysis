{
 "cells": [
  {
   "cell_type": "code",
   "execution_count": 1,
   "metadata": {},
   "outputs": [],
   "source": [
    "import re\n",
    "\n",
    "from bs4 import BeautifulSoup\n",
    "import requests\n",
    "import tqdm\n",
    "\n",
    "import matplotlib.pyplot as plt\n",
    "import pandas as pd\n",
    "\n",
    "plt.style.use('ggplot')"
   ]
  },
  {
   "cell_type": "markdown",
   "metadata": {},
   "source": [
    "# Data Collecting and Saving"
   ]
  },
  {
   "cell_type": "code",
   "execution_count": 2,
   "metadata": {},
   "outputs": [],
   "source": [
    "USER_AGENT = 'Safari/537.36'\n",
    "\n",
    "def get_soup(url):\n",
    "    headers = {\"User-Agent\": USER_AGENT}\n",
    "    response = requests.get(url, headers=headers)\n",
    "    soup = BeautifulSoup(response.content, 'lxml')\n",
    "    return soup"
   ]
  },
  {
   "cell_type": "code",
   "execution_count": 3,
   "metadata": {},
   "outputs": [],
   "source": [
    "def extract_vacancy_description(vacancy_url):\n",
    "    vacancy_soup = get_soup(vacancy_url)\n",
    "    description_div = vacancy_soup.find('div', class_='text')\n",
    "    description = description_div.text.strip()\n",
    "    return description"
   ]
  },
  {
   "cell_type": "code",
   "execution_count": 4,
   "metadata": {},
   "outputs": [],
   "source": [
    "PAGE_URL_TEMPLATE = 'https://gojob.az/vacancy/list?categories=web-ve-proqramlasdirma&page={page}'\n",
    "PAGES_COUNT = 27"
   ]
  },
  {
   "cell_type": "code",
   "execution_count": 5,
   "metadata": {},
   "outputs": [],
   "source": [
    "vacancies = []"
   ]
  },
  {
   "cell_type": "code",
   "execution_count": 6,
   "metadata": {},
   "outputs": [
    {
     "name": "stderr",
     "output_type": "stream",
     "text": [
      "Page 1: 100%|██████████████████████████████████████████████████████████████████████████| 20/20 [00:30<00:00,  1.53s/it]\n",
      "Page 2: 100%|██████████████████████████████████████████████████████████████████████████| 20/20 [00:30<00:00,  1.50s/it]\n",
      "Page 3: 100%|██████████████████████████████████████████████████████████████████████████| 20/20 [00:28<00:00,  1.44s/it]\n",
      "Page 4: 100%|██████████████████████████████████████████████████████████████████████████| 20/20 [00:30<00:00,  1.50s/it]\n",
      "Page 5: 100%|██████████████████████████████████████████████████████████████████████████| 20/20 [00:31<00:00,  1.60s/it]\n",
      "Page 6: 100%|██████████████████████████████████████████████████████████████████████████| 20/20 [00:29<00:00,  1.48s/it]\n",
      "Page 7: 100%|██████████████████████████████████████████████████████████████████████████| 20/20 [00:31<00:00,  1.58s/it]\n",
      "Page 8: 100%|██████████████████████████████████████████████████████████████████████████| 20/20 [00:30<00:00,  1.51s/it]\n",
      "Page 9: 100%|██████████████████████████████████████████████████████████████████████████| 20/20 [00:29<00:00,  1.48s/it]\n",
      "Page 10: 100%|█████████████████████████████████████████████████████████████████████████| 20/20 [00:30<00:00,  1.54s/it]\n",
      "Page 11: 100%|█████████████████████████████████████████████████████████████████████████| 20/20 [00:29<00:00,  1.48s/it]\n",
      "Page 12: 100%|█████████████████████████████████████████████████████████████████████████| 20/20 [00:35<00:00,  1.78s/it]\n",
      "Page 13: 100%|█████████████████████████████████████████████████████████████████████████| 20/20 [00:29<00:00,  1.47s/it]\n",
      "Page 14: 100%|█████████████████████████████████████████████████████████████████████████| 20/20 [00:30<00:00,  1.53s/it]\n",
      "Page 15: 100%|█████████████████████████████████████████████████████████████████████████| 20/20 [00:31<00:00,  1.56s/it]\n",
      "Page 16: 100%|█████████████████████████████████████████████████████████████████████████| 20/20 [00:31<00:00,  1.57s/it]\n",
      "Page 17: 100%|█████████████████████████████████████████████████████████████████████████| 20/20 [03:08<00:00,  9.45s/it]\n",
      "Page 18: 100%|█████████████████████████████████████████████████████████████████████████| 20/20 [00:29<00:00,  1.45s/it]\n",
      "Page 19: 100%|█████████████████████████████████████████████████████████████████████████| 20/20 [00:30<00:00,  1.52s/it]\n",
      "Page 20: 100%|█████████████████████████████████████████████████████████████████████████| 20/20 [00:30<00:00,  1.52s/it]\n",
      "Page 21: 100%|█████████████████████████████████████████████████████████████████████████| 20/20 [00:33<00:00,  1.67s/it]\n",
      "Page 22: 100%|█████████████████████████████████████████████████████████████████████████| 20/20 [00:29<00:00,  1.47s/it]\n",
      "Page 23: 100%|█████████████████████████████████████████████████████████████████████████| 20/20 [00:30<00:00,  1.54s/it]\n",
      "Page 24: 100%|█████████████████████████████████████████████████████████████████████████| 20/20 [00:30<00:00,  1.51s/it]\n",
      "Page 25: 100%|█████████████████████████████████████████████████████████████████████████| 20/20 [00:28<00:00,  1.44s/it]\n",
      "Page 26: 100%|█████████████████████████████████████████████████████████████████████████| 20/20 [00:28<00:00,  1.44s/it]\n",
      "Page 27: 100%|███████████████████████████████████████████████████████████████████████████| 5/5 [00:07<00:00,  1.44s/it]\n"
     ]
    }
   ],
   "source": [
    "for page_numb in range(1, PAGES_COUNT + 1):\n",
    "    page_soup = get_soup(PAGE_URL_TEMPLATE.format(page=page_numb))\n",
    "\n",
    "    vacancy_link_tags = page_soup.select('div.app-item-content > div.item > a')\n",
    "    pbar = tqdm.tqdm(vacancy_link_tags, desc=f\"Page {page_numb}\")\n",
    "    \n",
    "    for vacancy_link_tag in pbar:\n",
    "        vacancy_url = vacancy_link_tag.get('href')\n",
    "        description = extract_vacancy_description(vacancy_url)\n",
    "        vacancies.append(description)                "
   ]
  },
  {
   "cell_type": "code",
   "execution_count": 7,
   "metadata": {},
   "outputs": [
    {
     "data": {
      "text/plain": [
       "525"
      ]
     },
     "execution_count": 7,
     "metadata": {},
     "output_type": "execute_result"
    }
   ],
   "source": [
    "len(vacancies)"
   ]
  },
  {
   "cell_type": "code",
   "execution_count": 8,
   "metadata": {},
   "outputs": [],
   "source": [
    "df = pd.DataFrame(vacancies, columns=['description'])"
   ]
  },
  {
   "cell_type": "code",
   "execution_count": 9,
   "metadata": {},
   "outputs": [
    {
     "data": {
      "text/plain": [
       "(525, 1)"
      ]
     },
     "execution_count": 9,
     "metadata": {},
     "output_type": "execute_result"
    }
   ],
   "source": [
    "df.shape"
   ]
  },
  {
   "cell_type": "code",
   "execution_count": 10,
   "metadata": {},
   "outputs": [],
   "source": [
    "df.drop_duplicates(inplace=True)"
   ]
  },
  {
   "cell_type": "code",
   "execution_count": 11,
   "metadata": {},
   "outputs": [
    {
     "data": {
      "text/plain": [
       "(493, 1)"
      ]
     },
     "execution_count": 11,
     "metadata": {},
     "output_type": "execute_result"
    }
   ],
   "source": [
    "df.shape"
   ]
  },
  {
   "cell_type": "code",
   "execution_count": 12,
   "metadata": {},
   "outputs": [
    {
     "data": {
      "text/html": [
       "<div>\n",
       "<style scoped>\n",
       "    .dataframe tbody tr th:only-of-type {\n",
       "        vertical-align: middle;\n",
       "    }\n",
       "\n",
       "    .dataframe tbody tr th {\n",
       "        vertical-align: top;\n",
       "    }\n",
       "\n",
       "    .dataframe thead th {\n",
       "        text-align: right;\n",
       "    }\n",
       "</style>\n",
       "<table border=\"1\" class=\"dataframe\">\n",
       "  <thead>\n",
       "    <tr style=\"text-align: right;\">\n",
       "      <th></th>\n",
       "      <th>description</th>\n",
       "    </tr>\n",
       "  </thead>\n",
       "  <tbody>\n",
       "    <tr>\n",
       "      <th>0</th>\n",
       "      <td>MPAY QSCVəzifə adı: Proqram təminatının testi ...</td>\n",
       "    </tr>\n",
       "    <tr>\n",
       "      <th>1</th>\n",
       "      <td>Bazar riskləri şöbəsinin aparıcı /Baş mütəxəss...</td>\n",
       "    </tr>\n",
       "    <tr>\n",
       "      <th>2</th>\n",
       "      <td>Company Project : Local E -commercePosition : ...</td>\n",
       "    </tr>\n",
       "    <tr>\n",
       "      <th>3</th>\n",
       "      <td>1996-cı ildə əsası qoyulan Sinteks Şirkətlər Q...</td>\n",
       "    </tr>\n",
       "    <tr>\n",
       "      <th>4</th>\n",
       "      <td>“Grand Motors” MMC 2005-ci ilin sentyabr ayınd...</td>\n",
       "    </tr>\n",
       "  </tbody>\n",
       "</table>\n",
       "</div>"
      ],
      "text/plain": [
       "                                         description\n",
       "0  MPAY QSCVəzifə adı: Proqram təminatının testi ...\n",
       "1  Bazar riskləri şöbəsinin aparıcı /Baş mütəxəss...\n",
       "2  Company Project : Local E -commercePosition : ...\n",
       "3  1996-cı ildə əsası qoyulan Sinteks Şirkətlər Q...\n",
       "4  “Grand Motors” MMC 2005-ci ilin sentyabr ayınd..."
      ]
     },
     "execution_count": 12,
     "metadata": {},
     "output_type": "execute_result"
    }
   ],
   "source": [
    "df.head()"
   ]
  },
  {
   "cell_type": "code",
   "execution_count": 13,
   "metadata": {},
   "outputs": [],
   "source": [
    "df.to_csv('vacancies.csv', index=False)"
   ]
  },
  {
   "cell_type": "code",
   "execution_count": 14,
   "metadata": {},
   "outputs": [
    {
     "name": "stdout",
     "output_type": "stream",
     "text": [
      "main.ipynb\n",
      "vacancies.csv\n"
     ]
    }
   ],
   "source": [
    "!ls"
   ]
  },
  {
   "cell_type": "markdown",
   "metadata": {},
   "source": [
    "# Analysis"
   ]
  },
  {
   "cell_type": "markdown",
   "metadata": {},
   "source": [
    "### 1. First delete unrelated job vacancies where programming languages aren't mentioned"
   ]
  },
  {
   "cell_type": "code",
   "execution_count": 15,
   "metadata": {},
   "outputs": [],
   "source": [
    "jobs_df = pd.read_csv('vacancies.csv')"
   ]
  },
  {
   "cell_type": "code",
   "execution_count": 16,
   "metadata": {},
   "outputs": [
    {
     "data": {
      "text/html": [
       "<div>\n",
       "<style scoped>\n",
       "    .dataframe tbody tr th:only-of-type {\n",
       "        vertical-align: middle;\n",
       "    }\n",
       "\n",
       "    .dataframe tbody tr th {\n",
       "        vertical-align: top;\n",
       "    }\n",
       "\n",
       "    .dataframe thead th {\n",
       "        text-align: right;\n",
       "    }\n",
       "</style>\n",
       "<table border=\"1\" class=\"dataframe\">\n",
       "  <thead>\n",
       "    <tr style=\"text-align: right;\">\n",
       "      <th></th>\n",
       "      <th>description</th>\n",
       "    </tr>\n",
       "  </thead>\n",
       "  <tbody>\n",
       "    <tr>\n",
       "      <th>0</th>\n",
       "      <td>MPAY QSCVəzifə adı: Proqram təminatının testi ...</td>\n",
       "    </tr>\n",
       "    <tr>\n",
       "      <th>1</th>\n",
       "      <td>Bazar riskləri şöbəsinin aparıcı /Baş mütəxəss...</td>\n",
       "    </tr>\n",
       "    <tr>\n",
       "      <th>2</th>\n",
       "      <td>Company Project : Local E -commercePosition : ...</td>\n",
       "    </tr>\n",
       "    <tr>\n",
       "      <th>3</th>\n",
       "      <td>1996-cı ildə əsası qoyulan Sinteks Şirkətlər Q...</td>\n",
       "    </tr>\n",
       "    <tr>\n",
       "      <th>4</th>\n",
       "      <td>“Grand Motors” MMC 2005-ci ilin sentyabr ayınd...</td>\n",
       "    </tr>\n",
       "  </tbody>\n",
       "</table>\n",
       "</div>"
      ],
      "text/plain": [
       "                                         description\n",
       "0  MPAY QSCVəzifə adı: Proqram təminatının testi ...\n",
       "1  Bazar riskləri şöbəsinin aparıcı /Baş mütəxəss...\n",
       "2  Company Project : Local E -commercePosition : ...\n",
       "3  1996-cı ildə əsası qoyulan Sinteks Şirkətlər Q...\n",
       "4  “Grand Motors” MMC 2005-ci ilin sentyabr ayınd..."
      ]
     },
     "execution_count": 16,
     "metadata": {},
     "output_type": "execute_result"
    }
   ],
   "source": [
    "jobs_df.head()"
   ]
  },
  {
   "cell_type": "code",
   "execution_count": 17,
   "metadata": {},
   "outputs": [
    {
     "data": {
      "text/plain": [
       "(493, 1)"
      ]
     },
     "execution_count": 17,
     "metadata": {},
     "output_type": "execute_result"
    }
   ],
   "source": [
    "jobs_df.shape"
   ]
  },
  {
   "cell_type": "code",
   "execution_count": 18,
   "metadata": {},
   "outputs": [],
   "source": [
    "jobs_df['description'] = jobs_df['description'].str.lower()"
   ]
  },
  {
   "cell_type": "code",
   "execution_count": 19,
   "metadata": {},
   "outputs": [
    {
     "data": {
      "text/html": [
       "<div>\n",
       "<style scoped>\n",
       "    .dataframe tbody tr th:only-of-type {\n",
       "        vertical-align: middle;\n",
       "    }\n",
       "\n",
       "    .dataframe tbody tr th {\n",
       "        vertical-align: top;\n",
       "    }\n",
       "\n",
       "    .dataframe thead th {\n",
       "        text-align: right;\n",
       "    }\n",
       "</style>\n",
       "<table border=\"1\" class=\"dataframe\">\n",
       "  <thead>\n",
       "    <tr style=\"text-align: right;\">\n",
       "      <th></th>\n",
       "      <th>description</th>\n",
       "    </tr>\n",
       "  </thead>\n",
       "  <tbody>\n",
       "    <tr>\n",
       "      <th>0</th>\n",
       "      <td>mpay qscvəzifə adı: proqram təminatının testi ...</td>\n",
       "    </tr>\n",
       "    <tr>\n",
       "      <th>1</th>\n",
       "      <td>bazar riskləri şöbəsinin aparıcı /baş mütəxəss...</td>\n",
       "    </tr>\n",
       "    <tr>\n",
       "      <th>2</th>\n",
       "      <td>company project : local e -commerceposition : ...</td>\n",
       "    </tr>\n",
       "    <tr>\n",
       "      <th>3</th>\n",
       "      <td>1996-cı ildə əsası qoyulan sinteks şirkətlər q...</td>\n",
       "    </tr>\n",
       "    <tr>\n",
       "      <th>4</th>\n",
       "      <td>“grand motors” mmc 2005-ci ilin sentyabr ayınd...</td>\n",
       "    </tr>\n",
       "  </tbody>\n",
       "</table>\n",
       "</div>"
      ],
      "text/plain": [
       "                                         description\n",
       "0  mpay qscvəzifə adı: proqram təminatının testi ...\n",
       "1  bazar riskləri şöbəsinin aparıcı /baş mütəxəss...\n",
       "2  company project : local e -commerceposition : ...\n",
       "3  1996-cı ildə əsası qoyulan sinteks şirkətlər q...\n",
       "4  “grand motors” mmc 2005-ci ilin sentyabr ayınd..."
      ]
     },
     "execution_count": 19,
     "metadata": {},
     "output_type": "execute_result"
    }
   ],
   "source": [
    "jobs_df.head()"
   ]
  },
  {
   "cell_type": "code",
   "execution_count": 20,
   "metadata": {},
   "outputs": [],
   "source": [
    "prog_lang_rows = []"
   ]
  },
  {
   "cell_type": "code",
   "execution_count": 21,
   "metadata": {
    "scrolled": true
   },
   "outputs": [],
   "source": [
    "PROGRAMMING_LANGUAGES = ['java', 'c#', 'javascript', 'kotlin', 'swift', 'python', 'php']\n",
    "\n",
    "for row in jobs_df['description']:\n",
    "    languages_in_row = [re.search(lang, row) for lang in PROGRAMMING_LANGUAGES]\n",
    "    if not all(lang is None for lang in languages_in_row):\n",
    "        prog_lang_rows.append(row)"
   ]
  },
  {
   "cell_type": "code",
   "execution_count": 22,
   "metadata": {
    "scrolled": false
   },
   "outputs": [
    {
     "name": "stdout",
     "output_type": "stream",
     "text": [
      "258\n"
     ]
    }
   ],
   "source": [
    "print(len(prog_lang_rows))"
   ]
  },
  {
   "cell_type": "code",
   "execution_count": 23,
   "metadata": {},
   "outputs": [],
   "source": [
    "langs_df = pd.DataFrame(prog_lang_rows, columns=['description'])"
   ]
  },
  {
   "cell_type": "code",
   "execution_count": 24,
   "metadata": {},
   "outputs": [
    {
     "data": {
      "text/html": [
       "<div>\n",
       "<style scoped>\n",
       "    .dataframe tbody tr th:only-of-type {\n",
       "        vertical-align: middle;\n",
       "    }\n",
       "\n",
       "    .dataframe tbody tr th {\n",
       "        vertical-align: top;\n",
       "    }\n",
       "\n",
       "    .dataframe thead th {\n",
       "        text-align: right;\n",
       "    }\n",
       "</style>\n",
       "<table border=\"1\" class=\"dataframe\">\n",
       "  <thead>\n",
       "    <tr style=\"text-align: right;\">\n",
       "      <th></th>\n",
       "      <th>description</th>\n",
       "    </tr>\n",
       "  </thead>\n",
       "  <tbody>\n",
       "    <tr>\n",
       "      <th>0</th>\n",
       "      <td>mpay qscvəzifə adı: proqram təminatının testi ...</td>\n",
       "    </tr>\n",
       "    <tr>\n",
       "      <th>1</th>\n",
       "      <td>company project : local e -commerceposition : ...</td>\n",
       "    </tr>\n",
       "    <tr>\n",
       "      <th>2</th>\n",
       "      <td>1996-cı ildə əsası qoyulan sinteks şirkətlər q...</td>\n",
       "    </tr>\n",
       "    <tr>\n",
       "      <th>3</th>\n",
       "      <td>web developerосновные обязанности и обязательс...</td>\n",
       "    </tr>\n",
       "    <tr>\n",
       "      <th>4</th>\n",
       "      <td>mpay qscios native developer - ios (swift) pro...</td>\n",
       "    </tr>\n",
       "  </tbody>\n",
       "</table>\n",
       "</div>"
      ],
      "text/plain": [
       "                                         description\n",
       "0  mpay qscvəzifə adı: proqram təminatının testi ...\n",
       "1  company project : local e -commerceposition : ...\n",
       "2  1996-cı ildə əsası qoyulan sinteks şirkətlər q...\n",
       "3  web developerосновные обязанности и обязательс...\n",
       "4  mpay qscios native developer - ios (swift) pro..."
      ]
     },
     "execution_count": 24,
     "metadata": {},
     "output_type": "execute_result"
    }
   ],
   "source": [
    "langs_df.head()"
   ]
  },
  {
   "cell_type": "code",
   "execution_count": 25,
   "metadata": {},
   "outputs": [
    {
     "data": {
      "text/plain": [
       "(258, 1)"
      ]
     },
     "execution_count": 25,
     "metadata": {},
     "output_type": "execute_result"
    }
   ],
   "source": [
    "langs_df.shape"
   ]
  },
  {
   "cell_type": "markdown",
   "metadata": {},
   "source": [
    "### 2. Now let's answer the question \"How many vacancies are there for each progamming language?\""
   ]
  },
  {
   "cell_type": "code",
   "execution_count": 26,
   "metadata": {},
   "outputs": [
    {
     "data": {
      "text/html": [
       "<div>\n",
       "<style scoped>\n",
       "    .dataframe tbody tr th:only-of-type {\n",
       "        vertical-align: middle;\n",
       "    }\n",
       "\n",
       "    .dataframe tbody tr th {\n",
       "        vertical-align: top;\n",
       "    }\n",
       "\n",
       "    .dataframe thead th {\n",
       "        text-align: right;\n",
       "    }\n",
       "</style>\n",
       "<table border=\"1\" class=\"dataframe\">\n",
       "  <thead>\n",
       "    <tr style=\"text-align: right;\">\n",
       "      <th></th>\n",
       "      <th>description</th>\n",
       "    </tr>\n",
       "  </thead>\n",
       "  <tbody>\n",
       "    <tr>\n",
       "      <th>0</th>\n",
       "      <td>mpay qscvəzifə adı: proqram təminatının testi ...</td>\n",
       "    </tr>\n",
       "    <tr>\n",
       "      <th>1</th>\n",
       "      <td>company project : local e -commerceposition : ...</td>\n",
       "    </tr>\n",
       "    <tr>\n",
       "      <th>2</th>\n",
       "      <td>1996-cı ildə əsası qoyulan sinteks şirkətlər q...</td>\n",
       "    </tr>\n",
       "    <tr>\n",
       "      <th>3</th>\n",
       "      <td>web developerосновные обязанности и обязательс...</td>\n",
       "    </tr>\n",
       "    <tr>\n",
       "      <th>4</th>\n",
       "      <td>mpay qscios native developer - ios (swift) pro...</td>\n",
       "    </tr>\n",
       "  </tbody>\n",
       "</table>\n",
       "</div>"
      ],
      "text/plain": [
       "                                         description\n",
       "0  mpay qscvəzifə adı: proqram təminatının testi ...\n",
       "1  company project : local e -commerceposition : ...\n",
       "2  1996-cı ildə əsası qoyulan sinteks şirkətlər q...\n",
       "3  web developerосновные обязанности и обязательс...\n",
       "4  mpay qscios native developer - ios (swift) pro..."
      ]
     },
     "execution_count": 26,
     "metadata": {},
     "output_type": "execute_result"
    }
   ],
   "source": [
    "langs_df.head()"
   ]
  },
  {
   "cell_type": "code",
   "execution_count": 27,
   "metadata": {},
   "outputs": [],
   "source": [
    "langs_data = []"
   ]
  },
  {
   "cell_type": "code",
   "execution_count": 28,
   "metadata": {},
   "outputs": [],
   "source": [
    "for lang in PROGRAMMING_LANGUAGES:\n",
    "    lang_mask = langs_df['description'].str.contains(lang)\n",
    "    lang_vacancies = langs_df[lang_mask].shape[0]\n",
    "    lang_data = {'language': lang, 'vacancies': lang_vacancies}\n",
    "    langs_data.append(lang_data)"
   ]
  },
  {
   "cell_type": "code",
   "execution_count": 29,
   "metadata": {},
   "outputs": [
    {
     "data": {
      "text/plain": [
       "[{'language': 'java', 'vacancies': 177},\n",
       " {'language': 'c#', 'vacancies': 73},\n",
       " {'language': 'javascript', 'vacancies': 116},\n",
       " {'language': 'kotlin', 'vacancies': 11},\n",
       " {'language': 'swift', 'vacancies': 13},\n",
       " {'language': 'python', 'vacancies': 49},\n",
       " {'language': 'php', 'vacancies': 60}]"
      ]
     },
     "execution_count": 29,
     "metadata": {},
     "output_type": "execute_result"
    }
   ],
   "source": [
    "langs_data"
   ]
  },
  {
   "cell_type": "code",
   "execution_count": 30,
   "metadata": {},
   "outputs": [],
   "source": [
    "lang_freq_df = pd.DataFrame(sorted(\n",
    "    langs_data, \n",
    "    key=lambda language: language['vacancies'], \n",
    "    reverse=True\n",
    "))"
   ]
  },
  {
   "cell_type": "code",
   "execution_count": 31,
   "metadata": {},
   "outputs": [
    {
     "data": {
      "image/png": "[encoded data removed]",
      "text/plain": [
       "<Figure size 432x288 with 1 Axes>"
      ]
     },
     "metadata": {},
     "output_type": "display_data"
    }
   ],
   "source": [
    "lang_freq_df.plot(x='language', y='vacancies', kind='bar')\n",
    "plt.show()"
   ]
  }
 ],
 "metadata": {
  "kernelspec": {
   "display_name": "Python 3",
   "language": "python",
   "name": "python3"
  },
  "language_info": {
   "codemirror_mode": {
    "name": "ipython",
    "version": 3
   },
   "file_extension": ".py",
   "mimetype": "text/x-python",
   "name": "python",
   "nbconvert_exporter": "python",
   "pygments_lexer": "ipython3",
   "version": "3.8.3"
  }
 },
 "nbformat": 4,
 "nbformat_minor": 4
}
